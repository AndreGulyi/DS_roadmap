{
  "nbformat": 4,
  "nbformat_minor": 0,
  "metadata": {
    "colab": {
      "private_outputs": true,
      "provenance": [],
      "authorship_tag": "ABX9TyNBsiXU7jrQbJ4tcAvHvwkv",
      "include_colab_link": true
    },
    "kernelspec": {
      "name": "python3",
      "display_name": "Python 3"
    },
    "language_info": {
      "name": "python"
    }
  },
  "cells": [
    {
      "cell_type": "markdown",
      "metadata": {
        "id": "view-in-github",
        "colab_type": "text"
      },
      "source": [
        "<a href=\"https://colab.research.google.com/github/AndreGulyi/DS_roadmap/blob/main/DS_roadmap_Python_w1.ipynb\" target=\"_parent\"><img src=\"https://colab.research.google.com/assets/colab-badge.svg\" alt=\"Open In Colab\"/></a>"
      ]
    },
    {
      "cell_type": "code",
      "execution_count": null,
      "metadata": {
        "id": "23_uQs5OoqPL"
      },
      "outputs": [],
      "source": [
        "1+1\n",
        "type(1)"
      ]
    },
    {
      "cell_type": "code",
      "source": [
        "type('sdfs')"
      ],
      "metadata": {
        "id": "lO3gYaehrsH_"
      },
      "execution_count": null,
      "outputs": []
    },
    {
      "cell_type": "code",
      "source": [
        "type(1.0984375439875943875)"
      ],
      "metadata": {
        "id": "jSH3SVAqr1jT"
      },
      "execution_count": null,
      "outputs": []
    },
    {
      "cell_type": "code",
      "source": [
        "print(True,False)"
      ],
      "metadata": {
        "id": "Kq_VCVoztAiA"
      },
      "execution_count": null,
      "outputs": []
    },
    {
      "cell_type": "code",
      "source": [
        "print(1>0)"
      ],
      "metadata": {
        "id": "jAysc3mNtD-2"
      },
      "execution_count": null,
      "outputs": []
    },
    {
      "cell_type": "code",
      "source": [
        "type(True)"
      ],
      "metadata": {
        "id": "vQO4fiPitJns"
      },
      "execution_count": null,
      "outputs": []
    },
    {
      "cell_type": "markdown",
      "source": [],
      "metadata": {
        "id": "PQh1-aCCtI8m"
      }
    },
    {
      "cell_type": "code",
      "source": [
        "string = \" learn AG\"\n",
        "print(string.isalnum())\n",
        "print(string.isalpha())\n",
        "print(string.isspace())\n",
        "print(string.islower())\n",
        "print(string.isupper())"
      ],
      "metadata": {
        "id": "HIS1rNAHtPiR"
      },
      "execution_count": null,
      "outputs": []
    },
    {
      "cell_type": "code",
      "source": [
        "True and True"
      ],
      "metadata": {
        "id": "hU_XG8Sqt1W_"
      },
      "execution_count": null,
      "outputs": []
    },
    {
      "cell_type": "code",
      "source": [
        "True and False"
      ],
      "metadata": {
        "id": "PbTX79nDuCtr"
      },
      "execution_count": null,
      "outputs": []
    },
    {
      "cell_type": "code",
      "source": [
        "True or False"
      ],
      "metadata": {
        "id": "XzaAXkkuuFQe"
      },
      "execution_count": null,
      "outputs": []
    },
    {
      "cell_type": "code",
      "source": [
        "True or True"
      ],
      "metadata": {
        "id": "w5bL9CtJuq87"
      },
      "execution_count": null,
      "outputs": []
    },
    {
      "cell_type": "code",
      "source": [
        "list_sample = []\n",
        "type(list_sample)"
      ],
      "metadata": {
        "id": "n0mDIBgPut9N"
      },
      "execution_count": null,
      "outputs": []
    },
    {
      "cell_type": "code",
      "source": [
        "lst = list_sample"
      ],
      "metadata": {
        "id": "r8hafXypu9c7"
      },
      "execution_count": null,
      "outputs": []
    },
    {
      "cell_type": "code",
      "source": [
        "lst = [1]\n",
        "print(lst)"
      ],
      "metadata": {
        "id": "Gq_ytO9wu9GK"
      },
      "execution_count": null,
      "outputs": []
    },
    {
      "cell_type": "code",
      "source": [
        "print(list_sample)"
      ],
      "metadata": {
        "id": "scPL8bU3vBLI"
      },
      "execution_count": null,
      "outputs": []
    },
    {
      "cell_type": "code",
      "source": [
        "list2 = list()\n",
        "print(list2)"
      ],
      "metadata": {
        "id": "htfH-zTYvPnF"
      },
      "execution_count": null,
      "outputs": []
    },
    {
      "cell_type": "code",
      "source": [
        "len(list2)\n",
        "len(lst)"
      ],
      "metadata": {
        "id": "hydMviDtvSQY"
      },
      "execution_count": null,
      "outputs": []
    },
    {
      "cell_type": "code",
      "source": [
        "lst.append([333])"
      ],
      "metadata": {
        "id": "0ijVKYM_vjgg"
      },
      "execution_count": null,
      "outputs": []
    },
    {
      "cell_type": "code",
      "source": [
        "print(lst)"
      ],
      "metadata": {
        "id": "kEo_ItIEvsml"
      },
      "execution_count": null,
      "outputs": []
    },
    {
      "cell_type": "code",
      "source": [
        "lst.insert(1,[222])"
      ],
      "metadata": {
        "id": "AfK_bowsvz4V"
      },
      "execution_count": null,
      "outputs": []
    },
    {
      "cell_type": "code",
      "source": [
        "print(lst)"
      ],
      "metadata": {
        "id": "_efjyK_Fv3st"
      },
      "execution_count": null,
      "outputs": []
    },
    {
      "cell_type": "code",
      "source": [
        "lst[0]"
      ],
      "metadata": {
        "id": "ZauFHdJgv-aN"
      },
      "execution_count": null,
      "outputs": []
    },
    {
      "cell_type": "code",
      "source": [
        "lst.append(['apple','mac'])\n",
        "print(lst)"
      ],
      "metadata": {
        "id": "X_CdC-kzx8fq"
      },
      "execution_count": null,
      "outputs": []
    },
    {
      "cell_type": "code",
      "source": [
        "lst.append('mac2')"
      ],
      "metadata": {
        "id": "Ei_5EGKPyN5K"
      },
      "execution_count": null,
      "outputs": []
    },
    {
      "cell_type": "code",
      "source": [
        "print(lst)"
      ],
      "metadata": {
        "id": "CoV_dCMkyQ2p"
      },
      "execution_count": null,
      "outputs": []
    },
    {
      "cell_type": "code",
      "source": [
        "print(lst[3])"
      ],
      "metadata": {
        "id": "ijE58D8PyTfu"
      },
      "execution_count": null,
      "outputs": []
    },
    {
      "cell_type": "code",
      "source": [
        "print(lst[:2])"
      ],
      "metadata": {
        "id": "vZQRn8LnyfJX"
      },
      "execution_count": null,
      "outputs": []
    },
    {
      "cell_type": "code",
      "source": [
        "print(lst[2:])"
      ],
      "metadata": {
        "id": "HFvbrPPWyjDR"
      },
      "execution_count": null,
      "outputs": []
    },
    {
      "cell_type": "code",
      "source": [
        "lst.insert(2,'second')"
      ],
      "metadata": {
        "id": "7KRG8Wyyy5ow"
      },
      "execution_count": null,
      "outputs": []
    },
    {
      "cell_type": "code",
      "source": [
        "print(lst)"
      ],
      "metadata": {
        "id": "jgsp9hB4y-d8"
      },
      "execution_count": null,
      "outputs": []
    },
    {
      "cell_type": "code",
      "source": [
        "lst = [1,2,3,4,5,6,7]"
      ],
      "metadata": {
        "id": "-amxh2NozKBS"
      },
      "execution_count": null,
      "outputs": []
    },
    {
      "cell_type": "code",
      "source": [
        "lst.extend([8,9])\n",
        "lst"
      ],
      "metadata": {
        "id": "aDpCuu5AzeHt"
      },
      "execution_count": null,
      "outputs": []
    },
    {
      "cell_type": "code",
      "source": [
        "sum(lst)"
      ],
      "metadata": {
        "id": "4VOaZpsO0Fhl"
      },
      "execution_count": null,
      "outputs": []
    },
    {
      "cell_type": "code",
      "source": [
        "lst.append([10,11])\n",
        "lst"
      ],
      "metadata": {
        "id": "GodrpgZVzjhU"
      },
      "execution_count": null,
      "outputs": []
    },
    {
      "cell_type": "code",
      "source": [
        "lst.pop(0)\n",
        "lst"
      ],
      "metadata": {
        "id": "GwqxaRfA0CSI"
      },
      "execution_count": null,
      "outputs": []
    },
    {
      "cell_type": "code",
      "source": [
        "lst.extend([1,2,3,4,5,5,4,4,4])\n",
        "lst"
      ],
      "metadata": {
        "id": "kBDzAgEq0fUQ"
      },
      "execution_count": null,
      "outputs": []
    },
    {
      "cell_type": "code",
      "source": [
        "lst.count(4)"
      ],
      "metadata": {
        "id": "bTuy4ZZK0yXe"
      },
      "execution_count": null,
      "outputs": []
    },
    {
      "cell_type": "code",
      "source": [
        "len(lst)"
      ],
      "metadata": {
        "id": "K7F8T7GE05OO"
      },
      "execution_count": null,
      "outputs": []
    },
    {
      "cell_type": "code",
      "source": [
        "set_var = {1,2,3,4,5,6,'ironman'}\n",
        "set_var"
      ],
      "metadata": {
        "id": "DzB3ceSk08sn"
      },
      "execution_count": null,
      "outputs": []
    },
    {
      "cell_type": "code",
      "source": [
        "set_var.add('HULK')\n",
        "set_var"
      ],
      "metadata": {
        "id": "V9rBy_t914Zj"
      },
      "execution_count": null,
      "outputs": []
    },
    {
      "cell_type": "markdown",
      "source": [
        "#set = hast table"
      ],
      "metadata": {
        "id": "GtspYMWe3qA2"
      }
    },
    {
      "cell_type": "code",
      "source": [
        "set1 = {\"halk1\",'halk2','hlak3'}\n",
        "set2 = {\"halk1\",'halk2','hlak3','bro'}"
      ],
      "metadata": {
        "id": "TlYq7U9e2zGj"
      },
      "execution_count": null,
      "outputs": []
    },
    {
      "cell_type": "code",
      "source": [
        "set1.difference_update(set2)"
      ],
      "metadata": {
        "id": "ELuqfWao2-1n"
      },
      "execution_count": null,
      "outputs": []
    },
    {
      "cell_type": "code",
      "source": [
        "print(set1)"
      ],
      "metadata": {
        "id": "EwJvfplu3ByA"
      },
      "execution_count": null,
      "outputs": []
    },
    {
      "cell_type": "markdown",
      "source": [
        "#dictionary"
      ],
      "metadata": {
        "id": "k2kEmoYc3l45"
      }
    },
    {
      "cell_type": "code",
      "source": [
        "dict = {}\n",
        "dict"
      ],
      "metadata": {
        "id": "Elef7pqi3sxE"
      },
      "execution_count": null,
      "outputs": []
    },
    {
      "cell_type": "markdown",
      "source": [],
      "metadata": {
        "id": "OXWcH6EX4rqw"
      }
    },
    {
      "cell_type": "code",
      "source": [
        "type(dic)"
      ],
      "metadata": {
        "id": "BTQBfl_432ld"
      },
      "execution_count": null,
      "outputs": []
    },
    {
      "cell_type": "code",
      "source": [
        "dic =  {'auto1':'bmw', 'car2':'tesla','car3':'VW'}\n",
        "dic"
      ],
      "metadata": {
        "id": "q1cRvwS435Ef"
      },
      "execution_count": null,
      "outputs": []
    },
    {
      "cell_type": "code",
      "source": [
        "dic['auto1']"
      ],
      "metadata": {
        "id": "d-qnGO504kab"
      },
      "execution_count": null,
      "outputs": []
    },
    {
      "cell_type": "code",
      "source": [
        "for x in dic:\n",
        "  print(x)"
      ],
      "metadata": {
        "id": "xhvv5Dwa4npq"
      },
      "execution_count": null,
      "outputs": []
    },
    {
      "cell_type": "code",
      "source": [
        "for x in dic.items():\n",
        "  print(x)"
      ],
      "metadata": {
        "id": "PHGztGu346sa"
      },
      "execution_count": null,
      "outputs": []
    },
    {
      "cell_type": "code",
      "source": [
        "dic['car2'] = 'nothing'\n",
        "dic"
      ],
      "metadata": {
        "id": "dHOF5kZP5fsm"
      },
      "execution_count": null,
      "outputs": []
    }
  ]
}