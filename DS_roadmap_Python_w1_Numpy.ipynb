{
  "nbformat": 4,
  "nbformat_minor": 0,
  "metadata": {
    "colab": {
      "private_outputs": true,
      "provenance": [],
      "authorship_tag": "ABX9TyPcxzjSXcmFyxBNTdbLp80r",
      "include_colab_link": true
    },
    "kernelspec": {
      "name": "python3",
      "display_name": "Python 3"
    },
    "language_info": {
      "name": "python"
    }
  },
  "cells": [
    {
      "cell_type": "markdown",
      "metadata": {
        "id": "view-in-github",
        "colab_type": "text"
      },
      "source": [
        "<a href=\"https://colab.research.google.com/github/AndreGulyi/DS_roadmap/blob/main/DS_roadmap_Python_w1_Numpy.ipynb\" target=\"_parent\"><img src=\"https://colab.research.google.com/assets/colab-badge.svg\" alt=\"Open In Colab\"/></a>"
      ]
    },
    {
      "cell_type": "code",
      "execution_count": null,
      "metadata": {
        "id": "F8OR8h_o7_QL"
      },
      "outputs": [],
      "source": [
        "import numpy as np"
      ]
    },
    {
      "cell_type": "code",
      "source": [
        "list = [1,2,3,4,5]"
      ],
      "metadata": {
        "id": "KEj9iMFV8Hbc"
      },
      "execution_count": null,
      "outputs": []
    },
    {
      "cell_type": "code",
      "source": [
        "arr=np.array(list)\n",
        "arr"
      ],
      "metadata": {
        "id": "MZeVkv2C8OjZ"
      },
      "execution_count": null,
      "outputs": []
    },
    {
      "cell_type": "code",
      "source": [
        "type(arr)"
      ],
      "metadata": {
        "id": "nx5uEqwx-Y_h"
      },
      "execution_count": null,
      "outputs": []
    },
    {
      "cell_type": "code",
      "source": [
        "arr.shape"
      ],
      "metadata": {
        "id": "fV-UsUg2-clH"
      },
      "execution_count": null,
      "outputs": []
    },
    {
      "cell_type": "code",
      "source": [
        "#multilist arr\n",
        "my_arr1 = [1,2,3,4,5,]\n",
        "my_arr2 = [1,2,3,4,5,]\n",
        "my_arr3 = [1,2,3,4,5,]\n",
        "arr4 =np.array([my_arr1,my_arr2,my_arr3])"
      ],
      "metadata": {
        "id": "557UfDil-sul"
      },
      "execution_count": null,
      "outputs": []
    },
    {
      "cell_type": "code",
      "source": [
        "arr4.shape"
      ],
      "metadata": {
        "id": "pBO5XOLn_gSP"
      },
      "execution_count": null,
      "outputs": []
    },
    {
      "cell_type": "code",
      "source": [
        "arr4"
      ],
      "metadata": {
        "id": "DLXmA_6A_mYm"
      },
      "execution_count": null,
      "outputs": []
    },
    {
      "cell_type": "code",
      "source": [
        "arr4.shape"
      ],
      "metadata": {
        "id": "NjQ5sQD5_sFk"
      },
      "execution_count": null,
      "outputs": []
    },
    {
      "cell_type": "code",
      "source": [
        "arr4.reshape(5,3)"
      ],
      "metadata": {
        "id": "PXEwoyzV_ucu"
      },
      "execution_count": null,
      "outputs": []
    },
    {
      "cell_type": "code",
      "source": [
        "arr4[2,1:4]"
      ],
      "metadata": {
        "id": "o5bcTnlGAQgE"
      },
      "execution_count": null,
      "outputs": []
    },
    {
      "cell_type": "code",
      "source": [
        "#create array and reshape\n",
        "arrnew = np.arange(0,10)\n",
        "arrnew"
      ],
      "metadata": {
        "id": "-dHm-G7-CQEg"
      },
      "execution_count": null,
      "outputs": []
    },
    {
      "cell_type": "code",
      "source": [
        "arrnew.reshape(5,2)"
      ],
      "metadata": {
        "id": "K2aRac9xCfVz"
      },
      "execution_count": null,
      "outputs": []
    },
    {
      "cell_type": "code",
      "source": [
        "arr_ones = np.ones((2,5),dtype=float)\n",
        "arr_ones"
      ],
      "metadata": {
        "id": "7XWvzpImCmwO"
      },
      "execution_count": null,
      "outputs": []
    },
    {
      "cell_type": "code",
      "source": [
        "#random distribution\n",
        "arr_rand = np.random.rand(3,3)\n",
        "arr_rand"
      ],
      "metadata": {
        "id": "yzdORXO6C2C-"
      },
      "execution_count": null,
      "outputs": []
    },
    {
      "cell_type": "code",
      "source": [
        "arr_norm = np.random.rand(3,3)\n",
        "arr_norm"
      ],
      "metadata": {
        "id": "MgkhHA0dDSF9"
      },
      "execution_count": null,
      "outputs": []
    }
  ]
}