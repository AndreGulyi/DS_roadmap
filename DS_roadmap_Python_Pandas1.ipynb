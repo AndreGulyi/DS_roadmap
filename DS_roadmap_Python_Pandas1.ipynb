{
  "nbformat": 4,
  "nbformat_minor": 0,
  "metadata": {
    "colab": {
      "private_outputs": true,
      "provenance": [],
      "authorship_tag": "ABX9TyOl3aq6lDw94nXfigEvZhcM",
      "include_colab_link": true
    },
    "kernelspec": {
      "name": "python3",
      "display_name": "Python 3"
    },
    "language_info": {
      "name": "python"
    }
  },
  "cells": [
    {
      "cell_type": "markdown",
      "metadata": {
        "id": "view-in-github",
        "colab_type": "text"
      },
      "source": [
        "<a href=\"https://colab.research.google.com/github/AndreGulyi/DS_roadmap/blob/main/DS_roadmap_Python_Pandas1.ipynb\" target=\"_parent\"><img src=\"https://colab.research.google.com/assets/colab-badge.svg\" alt=\"Open In Colab\"/></a>"
      ]
    },
    {
      "cell_type": "code",
      "execution_count": null,
      "metadata": {
        "id": "rSbQCtfYKEDF"
      },
      "outputs": [],
      "source": [
        "import pandas as pd\n",
        "import numpy as np"
      ]
    },
    {
      "cell_type": "code",
      "source": [
        "#playing with dataframes\n",
        "df = pd.DataFrame(np.arange(0,20).reshape(5,4), index=['index1','index2','index3','index4','index5'],columns=['column1','column2','column3','column4'])\n",
        "df"
      ],
      "metadata": {
        "id": "l1dPu0jIKLSU"
      },
      "execution_count": null,
      "outputs": []
    },
    {
      "cell_type": "code",
      "source": [
        "#access to elements\n",
        "df.loc['index1']"
      ],
      "metadata": {
        "id": "ML2NfBwmLh8O"
      },
      "execution_count": null,
      "outputs": []
    },
    {
      "cell_type": "code",
      "source": [
        "df.iloc[:1]"
      ],
      "metadata": {
        "id": "kqRSIGeeLz6b"
      },
      "execution_count": null,
      "outputs": []
    },
    {
      "cell_type": "code",
      "source": [
        "df.to_csv('test.csv')"
      ],
      "metadata": {
        "id": "UHgWb3dx9CR_"
      },
      "execution_count": null,
      "outputs": []
    },
    {
      "cell_type": "code",
      "source": [
        "type(df.loc['index1'])"
      ],
      "metadata": {
        "id": "ipGPTjuK-RcF"
      },
      "execution_count": null,
      "outputs": []
    },
    {
      "cell_type": "code",
      "source": [
        "type(df.iloc[1:1])"
      ],
      "metadata": {
        "id": "gNzV0Bjj-iXo"
      },
      "execution_count": null,
      "outputs": []
    },
    {
      "cell_type": "code",
      "source": [
        "df"
      ],
      "metadata": {
        "id": "-TEci5PtBimi"
      },
      "execution_count": null,
      "outputs": []
    },
    {
      "cell_type": "code",
      "source": [
        "print(df.iloc[1:,1:-1])"
      ],
      "metadata": {
        "id": "nRCMolIFBItX"
      },
      "execution_count": null,
      "outputs": []
    },
    {
      "cell_type": "code",
      "source": [
        "df.values"
      ],
      "metadata": {
        "id": "BFtls4qGBxo6"
      },
      "execution_count": null,
      "outputs": []
    },
    {
      "cell_type": "code",
      "source": [
        "type(df.values)"
      ],
      "metadata": {
        "id": "gnBkr9PXB2ZY"
      },
      "execution_count": null,
      "outputs": []
    },
    {
      "cell_type": "code",
      "source": [
        "df.values.shape"
      ],
      "metadata": {
        "id": "FjYk-igrBqeY"
      },
      "execution_count": null,
      "outputs": []
    },
    {
      "cell_type": "code",
      "source": [
        "df['column1'].value_counts()"
      ],
      "metadata": {
        "id": "kDkpwLPrCKGv"
      },
      "execution_count": null,
      "outputs": []
    },
    {
      "cell_type": "code",
      "source": [
        "df[['column1','column2']]"
      ],
      "metadata": {
        "id": "ipI85dgoDKzV"
      },
      "execution_count": null,
      "outputs": []
    },
    {
      "cell_type": "code",
      "source": [
        "df.head()"
      ],
      "metadata": {
        "id": "htsMs4OfDVJQ"
      },
      "execution_count": null,
      "outputs": []
    }
  ]
}